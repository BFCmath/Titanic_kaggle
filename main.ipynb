{
 "cells": [
  {
   "cell_type": "markdown",
   "metadata": {},
   "source": [
    "# Titanic "
   ]
  },
  {
   "cell_type": "code",
   "execution_count": 1,
   "metadata": {},
   "outputs": [],
   "source": [
    "import numpy as np \n",
    "import pandas as pd \n",
    "import matplotlib.pyplot as plt \n",
    "\n",
    "# read data from train.csv \n",
    "rawdata = pd.read_csv(\"train.csv\")\n",
    "rawtestdata = pd.read_csv(\"test.csv\")\n"
   ]
  },
  {
   "cell_type": "markdown",
   "metadata": {},
   "source": [
    "# Data analysis"
   ]
  },
  {
   "cell_type": "code",
   "execution_count": 2,
   "metadata": {},
   "outputs": [
    {
     "name": "stdout",
     "output_type": "stream",
     "text": [
      "<class 'pandas.core.frame.DataFrame'>\n",
      "RangeIndex: 891 entries, 0 to 890\n",
      "Data columns (total 12 columns):\n",
      " #   Column       Non-Null Count  Dtype  \n",
      "---  ------       --------------  -----  \n",
      " 0   PassengerId  891 non-null    int64  \n",
      " 1   Survived     891 non-null    int64  \n",
      " 2   Pclass       891 non-null    int64  \n",
      " 3   Name         891 non-null    object \n",
      " 4   Sex          891 non-null    object \n",
      " 5   Age          714 non-null    float64\n",
      " 6   SibSp        891 non-null    int64  \n",
      " 7   Parch        891 non-null    int64  \n",
      " 8   Ticket       891 non-null    object \n",
      " 9   Fare         891 non-null    float64\n",
      " 10  Cabin        204 non-null    object \n",
      " 11  Embarked     889 non-null    object \n",
      "dtypes: float64(2), int64(5), object(5)\n",
      "memory usage: 83.7+ KB\n"
     ]
    }
   ],
   "source": [
    "rawdata.info()"
   ]
  },
  {
   "cell_type": "code",
   "execution_count": 3,
   "metadata": {},
   "outputs": [
    {
     "data": {
      "text/plain": [
       "['PassengerId',\n",
       " 'Survived',\n",
       " 'Pclass',\n",
       " 'Name',\n",
       " 'Sex',\n",
       " 'Age',\n",
       " 'SibSp',\n",
       " 'Parch',\n",
       " 'Ticket',\n",
       " 'Fare',\n",
       " 'Cabin',\n",
       " 'Embarked']"
      ]
     },
     "execution_count": 3,
     "metadata": {},
     "output_type": "execute_result"
    }
   ],
   "source": [
    "raw_col_labels = list(rawdata)\n",
    "raw_col_labels"
   ]
  },
  {
   "cell_type": "markdown",
   "metadata": {},
   "source": [
    "PassengerID: just id of the passenger (no use for the model)  \n",
    "Survived: the labels we need to predicts (0 for No, 1 for yes)  \n",
    "Pclass: ticket class (1,2,3)  \n",
    "Name: First Name, Last Name (maybe no use, or we need to make a new feature to extract the family name)  \n",
    "Sex: male and female   \n",
    "Age: can be a float if less than 1, otherwise will be x.0 and x.5  \n",
    "SibSp: numbers of  siblings / spouses aboard the Titanic  \n",
    "Parch: numbers of  parents / children aboard the Titanic  \n",
    "Ticket number: a string (highly no use, maybe can extract the type of ticket)  \n",
    "Fare: price of ticket  \n",
    "Cabin: cabin number (can extract the region from A/B/C/...), many NaN  \n",
    "Embarked: Port of Embarkation\t(C = Cherbourg, Q = Queenstown, S = Southampton) \n"
   ]
  },
  {
   "cell_type": "code",
   "execution_count": 4,
   "metadata": {},
   "outputs": [
    {
     "data": {
      "text/html": [
       "<div>\n",
       "<style scoped>\n",
       "    .dataframe tbody tr th:only-of-type {\n",
       "        vertical-align: middle;\n",
       "    }\n",
       "\n",
       "    .dataframe tbody tr th {\n",
       "        vertical-align: top;\n",
       "    }\n",
       "\n",
       "    .dataframe thead th {\n",
       "        text-align: right;\n",
       "    }\n",
       "</style>\n",
       "<table border=\"1\" class=\"dataframe\">\n",
       "  <thead>\n",
       "    <tr style=\"text-align: right;\">\n",
       "      <th></th>\n",
       "      <th>PassengerId</th>\n",
       "      <th>Survived</th>\n",
       "      <th>Pclass</th>\n",
       "      <th>Name</th>\n",
       "      <th>Sex</th>\n",
       "      <th>Age</th>\n",
       "      <th>SibSp</th>\n",
       "      <th>Parch</th>\n",
       "      <th>Ticket</th>\n",
       "      <th>Fare</th>\n",
       "      <th>Cabin</th>\n",
       "      <th>Embarked</th>\n",
       "    </tr>\n",
       "  </thead>\n",
       "  <tbody>\n",
       "    <tr>\n",
       "      <th>0</th>\n",
       "      <td>1</td>\n",
       "      <td>0</td>\n",
       "      <td>3</td>\n",
       "      <td>Braund, Mr. Owen Harris</td>\n",
       "      <td>male</td>\n",
       "      <td>22.0</td>\n",
       "      <td>1</td>\n",
       "      <td>0</td>\n",
       "      <td>A/5 21171</td>\n",
       "      <td>7.2500</td>\n",
       "      <td>NaN</td>\n",
       "      <td>S</td>\n",
       "    </tr>\n",
       "    <tr>\n",
       "      <th>1</th>\n",
       "      <td>2</td>\n",
       "      <td>1</td>\n",
       "      <td>1</td>\n",
       "      <td>Cumings, Mrs. John Bradley (Florence Briggs Th...</td>\n",
       "      <td>female</td>\n",
       "      <td>38.0</td>\n",
       "      <td>1</td>\n",
       "      <td>0</td>\n",
       "      <td>PC 17599</td>\n",
       "      <td>71.2833</td>\n",
       "      <td>C85</td>\n",
       "      <td>C</td>\n",
       "    </tr>\n",
       "    <tr>\n",
       "      <th>2</th>\n",
       "      <td>3</td>\n",
       "      <td>1</td>\n",
       "      <td>3</td>\n",
       "      <td>Heikkinen, Miss. Laina</td>\n",
       "      <td>female</td>\n",
       "      <td>26.0</td>\n",
       "      <td>0</td>\n",
       "      <td>0</td>\n",
       "      <td>STON/O2. 3101282</td>\n",
       "      <td>7.9250</td>\n",
       "      <td>NaN</td>\n",
       "      <td>S</td>\n",
       "    </tr>\n",
       "    <tr>\n",
       "      <th>3</th>\n",
       "      <td>4</td>\n",
       "      <td>1</td>\n",
       "      <td>1</td>\n",
       "      <td>Futrelle, Mrs. Jacques Heath (Lily May Peel)</td>\n",
       "      <td>female</td>\n",
       "      <td>35.0</td>\n",
       "      <td>1</td>\n",
       "      <td>0</td>\n",
       "      <td>113803</td>\n",
       "      <td>53.1000</td>\n",
       "      <td>C123</td>\n",
       "      <td>S</td>\n",
       "    </tr>\n",
       "    <tr>\n",
       "      <th>4</th>\n",
       "      <td>5</td>\n",
       "      <td>0</td>\n",
       "      <td>3</td>\n",
       "      <td>Allen, Mr. William Henry</td>\n",
       "      <td>male</td>\n",
       "      <td>35.0</td>\n",
       "      <td>0</td>\n",
       "      <td>0</td>\n",
       "      <td>373450</td>\n",
       "      <td>8.0500</td>\n",
       "      <td>NaN</td>\n",
       "      <td>S</td>\n",
       "    </tr>\n",
       "  </tbody>\n",
       "</table>\n",
       "</div>"
      ],
      "text/plain": [
       "   PassengerId  Survived  Pclass  \\\n",
       "0            1         0       3   \n",
       "1            2         1       1   \n",
       "2            3         1       3   \n",
       "3            4         1       1   \n",
       "4            5         0       3   \n",
       "\n",
       "                                                Name     Sex   Age  SibSp  \\\n",
       "0                            Braund, Mr. Owen Harris    male  22.0      1   \n",
       "1  Cumings, Mrs. John Bradley (Florence Briggs Th...  female  38.0      1   \n",
       "2                             Heikkinen, Miss. Laina  female  26.0      0   \n",
       "3       Futrelle, Mrs. Jacques Heath (Lily May Peel)  female  35.0      1   \n",
       "4                           Allen, Mr. William Henry    male  35.0      0   \n",
       "\n",
       "   Parch            Ticket     Fare Cabin Embarked  \n",
       "0      0         A/5 21171   7.2500   NaN        S  \n",
       "1      0          PC 17599  71.2833   C85        C  \n",
       "2      0  STON/O2. 3101282   7.9250   NaN        S  \n",
       "3      0            113803  53.1000  C123        S  \n",
       "4      0            373450   8.0500   NaN        S  "
      ]
     },
     "execution_count": 4,
     "metadata": {},
     "output_type": "execute_result"
    }
   ],
   "source": [
    "rawdata.head()"
   ]
  },
  {
   "cell_type": "markdown",
   "metadata": {},
   "source": [
    "**Note 1:**\n",
    "+ Shape: 891(instances),12(features)\n",
    "+ Null: Age,Cabin,Embarked\n",
    "+ No use/Labels: PassengerID/Survived  \n",
    "+ Numerical: Age, SibSp, Parch, Fare\n",
    "+ Category: Pclass, Name, Sex, Ticket, Cabin, Embarker \n",
    "+ Need to extract: Name, Ticket \n"
   ]
  },
  {
   "cell_type": "code",
   "execution_count": 5,
   "metadata": {},
   "outputs": [
    {
     "name": "stdout",
     "output_type": "stream",
     "text": [
      "Sex\n",
      "male      0.647587\n",
      "female    0.352413\n",
      "Name: count, dtype: float64\n",
      "Embarked\n",
      "S    0.722783\n",
      "C    0.188552\n",
      "Q    0.086420\n",
      "Name: count, dtype: float64\n"
     ]
    },
    {
     "data": {
      "image/png": "[encoded data removed]",
      "text/plain": [
       "<Figure size 640x480 with 6 Axes>"
      ]
     },
     "metadata": {},
     "output_type": "display_data"
    }
   ],
   "source": [
    "rawdata[[\"Survived\",\"Age\",\"SibSp\",\"Parch\",\"Fare\",\"Pclass\"]].hist()\n",
    "plt.tight_layout()\n",
    "\n",
    "print(rawdata[\"Sex\"].value_counts()/len(rawdata[\"Sex\"]))\n",
    "print(rawdata[\"Embarked\"].value_counts()/len(rawdata[\"Embarked\"]))"
   ]
  },
  {
   "cell_type": "markdown",
   "metadata": {},
   "source": [
    "For now, lets ignore name, passengerID, ticket and Cabin  \n",
    "because they are hard string\n",
    " "
   ]
  },
  {
   "cell_type": "code",
   "execution_count": 6,
   "metadata": {},
   "outputs": [],
   "source": [
    "col_names_1 = [\n",
    " 'Pclass',\n",
    " 'Sex',\n",
    " 'Age',\n",
    " 'SibSp',\n",
    " 'Parch',\n",
    " 'Fare',\n",
    " 'Embarked','Survived']\n",
    "data_1 = rawdata[col_names_1]"
   ]
  },
  {
   "cell_type": "code",
   "execution_count": 7,
   "metadata": {},
   "outputs": [
    {
     "name": "stdout",
     "output_type": "stream",
     "text": [
      "<class 'pandas.core.frame.DataFrame'>\n",
      "RangeIndex: 891 entries, 0 to 890\n",
      "Data columns (total 8 columns):\n",
      " #   Column    Non-Null Count  Dtype  \n",
      "---  ------    --------------  -----  \n",
      " 0   Pclass    891 non-null    int64  \n",
      " 1   Sex       891 non-null    object \n",
      " 2   Age       714 non-null    float64\n",
      " 3   SibSp     891 non-null    int64  \n",
      " 4   Parch     891 non-null    int64  \n",
      " 5   Fare      891 non-null    float64\n",
      " 6   Embarked  889 non-null    object \n",
      " 7   Survived  891 non-null    int64  \n",
      "dtypes: float64(2), int64(4), object(2)\n",
      "memory usage: 55.8+ KB\n"
     ]
    }
   ],
   "source": [
    "data_1.info()"
   ]
  },
  {
   "cell_type": "code",
   "execution_count": 8,
   "metadata": {},
   "outputs": [
    {
     "data": {
      "image/png": "[encoded data removed]",
      "text/plain": [
       "<Figure size 600x600 with 4 Axes>"
      ]
     },
     "metadata": {},
     "output_type": "display_data"
    }
   ],
   "source": [
    "fig, axes = plt.subplots(2, 2, figsize=(6, 6))\n",
    "\n",
    "# Plot for Pclass\n",
    "grouped_pclass = rawdata.groupby(['Pclass', 'Survived']).size().unstack(fill_value=0)\n",
    "grouped_pclass.plot(kind='bar', stacked=True, ax=axes[0,0], color=['red', 'green'])\n",
    "axes[0,0].set_xlabel('Pclass')\n",
    "axes[0,0].set_ylabel('Count')\n",
    "\n",
    "# Plot for Sex\n",
    "grouped_sex = rawdata.groupby(['Sex', 'Survived']).size().unstack(fill_value=0)\n",
    "grouped_sex.plot(kind='bar', stacked=True, ax=axes[0,1], color=['red', 'green'])\n",
    "axes[0,1].set_xlabel('Sex')\n",
    "axes[0,1].set_ylabel('Count')\n",
    "\n",
    "grouped_sibsp = rawdata.groupby(['SibSp', 'Survived']).size().unstack(fill_value=0)\n",
    "grouped_sibsp.plot(kind='bar', stacked=True, ax=axes[1, 0], color=['red', 'green'])\n",
    "axes[1, 0].set_xlabel('SibSp')\n",
    "axes[1, 0].set_ylabel('Count')\n",
    "\n",
    "grouped_parch = rawdata.groupby(['Parch', 'Survived']).size().unstack(fill_value=0)\n",
    "grouped_parch.plot(kind='bar', stacked=True, ax=axes[1, 1], color=['red', 'green'])\n",
    "axes[1, 1].set_xlabel('Parch')\n",
    "axes[1, 1].set_ylabel('Count')\n",
    "# # Adjust layout\n",
    "plt.tight_layout()\n",
    "\n",
    "# Show plot\n",
    "plt.show()"
   ]
  },
  {
   "cell_type": "code",
   "execution_count": 9,
   "metadata": {},
   "outputs": [
    {
     "name": "stderr",
     "output_type": "stream",
     "text": [
      "C:\\Users\\Phan Trong Dai\\AppData\\Local\\Temp\\ipykernel_17084\\4037344423.py:3: SettingWithCopyWarning: \n",
      "A value is trying to be set on a copy of a slice from a DataFrame.\n",
      "Try using .loc[row_indexer,col_indexer] = value instead\n",
      "\n",
      "See the caveats in the documentation: https://pandas.pydata.org/pandas-docs/stable/user_guide/indexing.html#returning-a-view-versus-a-copy\n",
      "  data_1.loc[:, \"Agegroup\"]= pd.cut(data_1[\"Age\"],bins=bins,labels=labels,right=True, include_lowest=True)\n",
      "C:\\Users\\Phan Trong Dai\\AppData\\Local\\Temp\\ipykernel_17084\\4037344423.py:5: FutureWarning: The default of observed=False is deprecated and will be changed to True in a future version of pandas. Pass observed=False to retain current behavior or observed=True to adopt the future default and silence this warning.\n",
      "  grouped_age= data_1.groupby(['Agegroup', 'Survived']).size().unstack(fill_value=0)\n"
     ]
    },
    {
     "data": {
      "image/png": "[encoded data removed]",
      "text/plain": [
       "<Figure size 640x480 with 1 Axes>"
      ]
     },
     "metadata": {},
     "output_type": "display_data"
    }
   ],
   "source": [
    "bins = [float('-inf'),1, 10, 20, 30,40,50,60,70, float('inf')]\n",
    "labels = ['1-', '1-10', '11-20','21-30','31-40','41-50', '51-60','61-70','71+']\n",
    "data_1.loc[:, \"Agegroup\"]= pd.cut(data_1[\"Age\"],bins=bins,labels=labels,right=True, include_lowest=True)\n",
    "data_1.loc[:, \"Agegroup\"] = data_1[\"Agegroup\"].cat.add_categories(\"Unknown\").fillna('Unknown')\n",
    "grouped_age= data_1.groupby(['Agegroup', 'Survived']).size().unstack(fill_value=0)\n",
    "grouped_age.plot(kind='bar', stacked=False, color=['red', 'green'])\n",
    "\n",
    "# Adding labels and title\n",
    "plt.xlabel('Age Group')\n",
    "plt.ylabel('Count')\n",
    "plt.title('Survival Count by Age Group')\n",
    "plt.show()\n"
   ]
  },
  {
   "cell_type": "code",
   "execution_count": 10,
   "metadata": {},
   "outputs": [
    {
     "data": {
      "image/png": "[encoded data removed]",
      "text/plain": [
       "<Figure size 640x480 with 1 Axes>"
      ]
     },
     "metadata": {},
     "output_type": "display_data"
    }
   ],
   "source": [
    "# Adding 'Unknown' category and filling blank cells with 'Unknown'\n",
    "data_1.loc[:,\"Embarked\"] = data_1[\"Embarked\"].astype(\"category\")\n",
    "# Grouping by Embarked and Survived\n",
    "grouped_embarked = data_1.groupby(['Embarked', 'Survived']).size().unstack(fill_value=0)\n",
    "\n",
    "# Plotting the grouped bar chart\n",
    "grouped_embarked.plot(kind='bar', stacked=False, color=['red', 'green'])\n",
    "\n",
    "# Adding labels and title\n",
    "plt.xlabel('Embarked')\n",
    "plt.ylabel('Count')\n",
    "plt.title('Survival Count by Embarked')\n",
    "\n",
    "# Displaying the plot\n",
    "plt.show()\n"
   ]
  },
  {
   "cell_type": "markdown",
   "metadata": {},
   "source": [
    "**Note 2:**\n",
    "+ higher class, higher survive rate \n",
    "+ the rate of survived female is higher \n",
    "+ its likely that the more relative, the higher percent you lived\n",
    "+ the younger, the higher survive rate \n",
    "+ it also seem to be less survive rate for unknow age group \n",
    "+ embark at C survived the most\n"
   ]
  },
  {
   "cell_type": "code",
   "execution_count": 11,
   "metadata": {},
   "outputs": [
    {
     "name": "stdout",
     "output_type": "stream",
     "text": [
      "<class 'pandas.core.frame.DataFrame'>\n",
      "RangeIndex: 891 entries, 0 to 890\n",
      "Data columns (total 9 columns):\n",
      " #   Column    Non-Null Count  Dtype   \n",
      "---  ------    --------------  -----   \n",
      " 0   Pclass    891 non-null    int64   \n",
      " 1   Sex       891 non-null    object  \n",
      " 2   Age       714 non-null    float64 \n",
      " 3   SibSp     891 non-null    int64   \n",
      " 4   Parch     891 non-null    int64   \n",
      " 5   Fare      891 non-null    float64 \n",
      " 6   Embarked  889 non-null    object  \n",
      " 7   Survived  891 non-null    int64   \n",
      " 8   Agegroup  891 non-null    category\n",
      "dtypes: category(1), float64(2), int64(4), object(2)\n",
      "memory usage: 57.1+ KB\n"
     ]
    }
   ],
   "source": [
    "data_1.info()"
   ]
  },
  {
   "cell_type": "markdown",
   "metadata": {},
   "source": [
    "# Data Extraction"
   ]
  },
  {
   "cell_type": "code",
   "execution_count": 12,
   "metadata": {},
   "outputs": [
    {
     "name": "stdout",
     "output_type": "stream",
     "text": [
      "<class 'pandas.core.frame.DataFrame'>\n",
      "RangeIndex: 891 entries, 0 to 890\n",
      "Data columns (total 5 columns):\n",
      " #   Column  Non-Null Count  Dtype  \n",
      "---  ------  --------------  -----  \n",
      " 0   Pclass  891 non-null    int64  \n",
      " 1   Age     714 non-null    float64\n",
      " 2   SibSp   891 non-null    int64  \n",
      " 3   Parch   891 non-null    int64  \n",
      " 4   Fare    891 non-null    float64\n",
      "dtypes: float64(2), int64(3)\n",
      "memory usage: 34.9 KB\n",
      "None\n",
      "<class 'pandas.core.frame.DataFrame'>\n",
      "RangeIndex: 891 entries, 0 to 890\n",
      "Data columns (total 2 columns):\n",
      " #   Column    Non-Null Count  Dtype \n",
      "---  ------    --------------  ----- \n",
      " 0   Sex       891 non-null    object\n",
      " 1   Embarked  889 non-null    object\n",
      "dtypes: object(2)\n",
      "memory usage: 14.1+ KB\n",
      "None\n"
     ]
    }
   ],
   "source": [
    "label_col = [\"Survived\"]\n",
    "numerical_cols = [\"Pclass\",\"Age\",\"SibSp\",\"Parch\",\"Fare\"]\n",
    "category_cols = [\"Sex\",\"Embarked\"]\n",
    "\n",
    "numerical_data = rawdata[numerical_cols]\n",
    "print(numerical_data.info())\n",
    "\n",
    "category_data = rawdata[category_cols]\n",
    "print(category_data.info())\n",
    "\n",
    "labels = rawdata[label_col]"
   ]
  },
  {
   "cell_type": "markdown",
   "metadata": {},
   "source": [
    "<h2> Handle category</h2>  "
   ]
  },
  {
   "cell_type": "code",
   "execution_count": 13,
   "metadata": {},
   "outputs": [
    {
     "data": {
      "text/html": [
       "<div>\n",
       "<style scoped>\n",
       "    .dataframe tbody tr th:only-of-type {\n",
       "        vertical-align: middle;\n",
       "    }\n",
       "\n",
       "    .dataframe tbody tr th {\n",
       "        vertical-align: top;\n",
       "    }\n",
       "\n",
       "    .dataframe thead th {\n",
       "        text-align: right;\n",
       "    }\n",
       "</style>\n",
       "<table border=\"1\" class=\"dataframe\">\n",
       "  <thead>\n",
       "    <tr style=\"text-align: right;\">\n",
       "      <th></th>\n",
       "      <th>Sex</th>\n",
       "      <th>Embarked_C</th>\n",
       "      <th>Embarked_Q</th>\n",
       "      <th>Embarked_S</th>\n",
       "    </tr>\n",
       "  </thead>\n",
       "  <tbody>\n",
       "    <tr>\n",
       "      <th>0</th>\n",
       "      <td>1.0</td>\n",
       "      <td>0.0</td>\n",
       "      <td>0.0</td>\n",
       "      <td>1.0</td>\n",
       "    </tr>\n",
       "    <tr>\n",
       "      <th>1</th>\n",
       "      <td>0.0</td>\n",
       "      <td>1.0</td>\n",
       "      <td>0.0</td>\n",
       "      <td>0.0</td>\n",
       "    </tr>\n",
       "    <tr>\n",
       "      <th>2</th>\n",
       "      <td>0.0</td>\n",
       "      <td>0.0</td>\n",
       "      <td>0.0</td>\n",
       "      <td>1.0</td>\n",
       "    </tr>\n",
       "    <tr>\n",
       "      <th>3</th>\n",
       "      <td>0.0</td>\n",
       "      <td>0.0</td>\n",
       "      <td>0.0</td>\n",
       "      <td>1.0</td>\n",
       "    </tr>\n",
       "    <tr>\n",
       "      <th>4</th>\n",
       "      <td>1.0</td>\n",
       "      <td>0.0</td>\n",
       "      <td>0.0</td>\n",
       "      <td>1.0</td>\n",
       "    </tr>\n",
       "    <tr>\n",
       "      <th>...</th>\n",
       "      <td>...</td>\n",
       "      <td>...</td>\n",
       "      <td>...</td>\n",
       "      <td>...</td>\n",
       "    </tr>\n",
       "    <tr>\n",
       "      <th>886</th>\n",
       "      <td>1.0</td>\n",
       "      <td>0.0</td>\n",
       "      <td>0.0</td>\n",
       "      <td>1.0</td>\n",
       "    </tr>\n",
       "    <tr>\n",
       "      <th>887</th>\n",
       "      <td>0.0</td>\n",
       "      <td>0.0</td>\n",
       "      <td>0.0</td>\n",
       "      <td>1.0</td>\n",
       "    </tr>\n",
       "    <tr>\n",
       "      <th>888</th>\n",
       "      <td>0.0</td>\n",
       "      <td>0.0</td>\n",
       "      <td>0.0</td>\n",
       "      <td>1.0</td>\n",
       "    </tr>\n",
       "    <tr>\n",
       "      <th>889</th>\n",
       "      <td>1.0</td>\n",
       "      <td>1.0</td>\n",
       "      <td>0.0</td>\n",
       "      <td>0.0</td>\n",
       "    </tr>\n",
       "    <tr>\n",
       "      <th>890</th>\n",
       "      <td>1.0</td>\n",
       "      <td>0.0</td>\n",
       "      <td>1.0</td>\n",
       "      <td>0.0</td>\n",
       "    </tr>\n",
       "  </tbody>\n",
       "</table>\n",
       "<p>891 rows × 4 columns</p>\n",
       "</div>"
      ],
      "text/plain": [
       "     Sex  Embarked_C  Embarked_Q  Embarked_S\n",
       "0    1.0         0.0         0.0         1.0\n",
       "1    0.0         1.0         0.0         0.0\n",
       "2    0.0         0.0         0.0         1.0\n",
       "3    0.0         0.0         0.0         1.0\n",
       "4    1.0         0.0         0.0         1.0\n",
       "..   ...         ...         ...         ...\n",
       "886  1.0         0.0         0.0         1.0\n",
       "887  0.0         0.0         0.0         1.0\n",
       "888  0.0         0.0         0.0         1.0\n",
       "889  1.0         1.0         0.0         0.0\n",
       "890  1.0         0.0         1.0         0.0\n",
       "\n",
       "[891 rows x 4 columns]"
      ]
     },
     "execution_count": 13,
     "metadata": {},
     "output_type": "execute_result"
    }
   ],
   "source": [
    "from sklearn.preprocessing import OrdinalEncoder,OneHotEncoder \n",
    "ord_encoder = OrdinalEncoder()\n",
    "onehot_encoder = OneHotEncoder()\n",
    "category_data = category_data.fillna(\"S\") #because there are only 2 blank cells so I decided to fill it with S\n",
    "category_data[\"Sex\"]= ord_encoder.fit_transform(category_data[[\"Sex\"]])\n",
    "embarked_encoded = (onehot_encoder.fit_transform(category_data[[\"Embarked\"]])).toarray()\n",
    "embarked_encoded_df = pd.DataFrame(embarked_encoded, columns=onehot_encoder.get_feature_names_out([\"Embarked\"]))\n",
    "\n",
    "encoded_category_data = pd.concat([category_data[\"Sex\"],embarked_encoded_df],axis=1)\n",
    "encoded_category_data"
   ]
  },
  {
   "cell_type": "markdown",
   "metadata": {},
   "source": [
    "<h2> Handle blank cells</h2>  "
   ]
  },
  {
   "cell_type": "code",
   "execution_count": 14,
   "metadata": {},
   "outputs": [
    {
     "data": {
      "text/html": [
       "<div>\n",
       "<style scoped>\n",
       "    .dataframe tbody tr th:only-of-type {\n",
       "        vertical-align: middle;\n",
       "    }\n",
       "\n",
       "    .dataframe tbody tr th {\n",
       "        vertical-align: top;\n",
       "    }\n",
       "\n",
       "    .dataframe thead th {\n",
       "        text-align: right;\n",
       "    }\n",
       "</style>\n",
       "<table border=\"1\" class=\"dataframe\">\n",
       "  <thead>\n",
       "    <tr style=\"text-align: right;\">\n",
       "      <th></th>\n",
       "      <th>Pclass</th>\n",
       "      <th>Age</th>\n",
       "      <th>SibSp</th>\n",
       "      <th>Parch</th>\n",
       "      <th>Fare</th>\n",
       "    </tr>\n",
       "  </thead>\n",
       "  <tbody>\n",
       "    <tr>\n",
       "      <th>0</th>\n",
       "      <td>3.0</td>\n",
       "      <td>22.0</td>\n",
       "      <td>1.0</td>\n",
       "      <td>0.0</td>\n",
       "      <td>7.2500</td>\n",
       "    </tr>\n",
       "    <tr>\n",
       "      <th>1</th>\n",
       "      <td>1.0</td>\n",
       "      <td>38.0</td>\n",
       "      <td>1.0</td>\n",
       "      <td>0.0</td>\n",
       "      <td>71.2833</td>\n",
       "    </tr>\n",
       "    <tr>\n",
       "      <th>2</th>\n",
       "      <td>3.0</td>\n",
       "      <td>26.0</td>\n",
       "      <td>0.0</td>\n",
       "      <td>0.0</td>\n",
       "      <td>7.9250</td>\n",
       "    </tr>\n",
       "    <tr>\n",
       "      <th>3</th>\n",
       "      <td>1.0</td>\n",
       "      <td>35.0</td>\n",
       "      <td>1.0</td>\n",
       "      <td>0.0</td>\n",
       "      <td>53.1000</td>\n",
       "    </tr>\n",
       "    <tr>\n",
       "      <th>4</th>\n",
       "      <td>3.0</td>\n",
       "      <td>35.0</td>\n",
       "      <td>0.0</td>\n",
       "      <td>0.0</td>\n",
       "      <td>8.0500</td>\n",
       "    </tr>\n",
       "    <tr>\n",
       "      <th>...</th>\n",
       "      <td>...</td>\n",
       "      <td>...</td>\n",
       "      <td>...</td>\n",
       "      <td>...</td>\n",
       "      <td>...</td>\n",
       "    </tr>\n",
       "    <tr>\n",
       "      <th>886</th>\n",
       "      <td>2.0</td>\n",
       "      <td>27.0</td>\n",
       "      <td>0.0</td>\n",
       "      <td>0.0</td>\n",
       "      <td>13.0000</td>\n",
       "    </tr>\n",
       "    <tr>\n",
       "      <th>887</th>\n",
       "      <td>1.0</td>\n",
       "      <td>19.0</td>\n",
       "      <td>0.0</td>\n",
       "      <td>0.0</td>\n",
       "      <td>30.0000</td>\n",
       "    </tr>\n",
       "    <tr>\n",
       "      <th>888</th>\n",
       "      <td>3.0</td>\n",
       "      <td>28.0</td>\n",
       "      <td>1.0</td>\n",
       "      <td>2.0</td>\n",
       "      <td>23.4500</td>\n",
       "    </tr>\n",
       "    <tr>\n",
       "      <th>889</th>\n",
       "      <td>1.0</td>\n",
       "      <td>26.0</td>\n",
       "      <td>0.0</td>\n",
       "      <td>0.0</td>\n",
       "      <td>30.0000</td>\n",
       "    </tr>\n",
       "    <tr>\n",
       "      <th>890</th>\n",
       "      <td>3.0</td>\n",
       "      <td>32.0</td>\n",
       "      <td>0.0</td>\n",
       "      <td>0.0</td>\n",
       "      <td>7.7500</td>\n",
       "    </tr>\n",
       "  </tbody>\n",
       "</table>\n",
       "<p>891 rows × 5 columns</p>\n",
       "</div>"
      ],
      "text/plain": [
       "     Pclass   Age  SibSp  Parch     Fare\n",
       "0       3.0  22.0    1.0    0.0   7.2500\n",
       "1       1.0  38.0    1.0    0.0  71.2833\n",
       "2       3.0  26.0    0.0    0.0   7.9250\n",
       "3       1.0  35.0    1.0    0.0  53.1000\n",
       "4       3.0  35.0    0.0    0.0   8.0500\n",
       "..      ...   ...    ...    ...      ...\n",
       "886     2.0  27.0    0.0    0.0  13.0000\n",
       "887     1.0  19.0    0.0    0.0  30.0000\n",
       "888     3.0  28.0    1.0    2.0  23.4500\n",
       "889     1.0  26.0    0.0    0.0  30.0000\n",
       "890     3.0  32.0    0.0    0.0   7.7500\n",
       "\n",
       "[891 rows x 5 columns]"
      ]
     },
     "execution_count": 14,
     "metadata": {},
     "output_type": "execute_result"
    }
   ],
   "source": [
    "from sklearn.impute import SimpleImputer\n",
    "\n",
    "imputer = SimpleImputer(strategy=\"median\")\n",
    "filled_numerical_data = imputer.fit_transform(numerical_data)\n",
    "filled_numerical_data = pd.DataFrame(filled_numerical_data, columns=numerical_data.columns)\n",
    "filled_numerical_data"
   ]
  },
  {
   "cell_type": "code",
   "execution_count": 15,
   "metadata": {},
   "outputs": [
    {
     "data": {
      "text/html": [
       "<div>\n",
       "<style scoped>\n",
       "    .dataframe tbody tr th:only-of-type {\n",
       "        vertical-align: middle;\n",
       "    }\n",
       "\n",
       "    .dataframe tbody tr th {\n",
       "        vertical-align: top;\n",
       "    }\n",
       "\n",
       "    .dataframe thead th {\n",
       "        text-align: right;\n",
       "    }\n",
       "</style>\n",
       "<table border=\"1\" class=\"dataframe\">\n",
       "  <thead>\n",
       "    <tr style=\"text-align: right;\">\n",
       "      <th></th>\n",
       "      <th>Pclass</th>\n",
       "      <th>Age</th>\n",
       "      <th>SibSp</th>\n",
       "      <th>Parch</th>\n",
       "      <th>Fare</th>\n",
       "      <th>Sex</th>\n",
       "      <th>Embarked_C</th>\n",
       "      <th>Embarked_Q</th>\n",
       "      <th>Embarked_S</th>\n",
       "    </tr>\n",
       "  </thead>\n",
       "  <tbody>\n",
       "    <tr>\n",
       "      <th>0</th>\n",
       "      <td>0.827377</td>\n",
       "      <td>-0.565736</td>\n",
       "      <td>0.432793</td>\n",
       "      <td>-0.473674</td>\n",
       "      <td>-0.502445</td>\n",
       "      <td>0.737695</td>\n",
       "      <td>-0.482043</td>\n",
       "      <td>-0.307562</td>\n",
       "      <td>0.615838</td>\n",
       "    </tr>\n",
       "    <tr>\n",
       "      <th>1</th>\n",
       "      <td>-1.566107</td>\n",
       "      <td>0.663861</td>\n",
       "      <td>0.432793</td>\n",
       "      <td>-0.473674</td>\n",
       "      <td>0.786845</td>\n",
       "      <td>-1.355574</td>\n",
       "      <td>2.074505</td>\n",
       "      <td>-0.307562</td>\n",
       "      <td>-1.623803</td>\n",
       "    </tr>\n",
       "    <tr>\n",
       "      <th>2</th>\n",
       "      <td>0.827377</td>\n",
       "      <td>-0.258337</td>\n",
       "      <td>-0.474545</td>\n",
       "      <td>-0.473674</td>\n",
       "      <td>-0.488854</td>\n",
       "      <td>-1.355574</td>\n",
       "      <td>-0.482043</td>\n",
       "      <td>-0.307562</td>\n",
       "      <td>0.615838</td>\n",
       "    </tr>\n",
       "    <tr>\n",
       "      <th>3</th>\n",
       "      <td>-1.566107</td>\n",
       "      <td>0.433312</td>\n",
       "      <td>0.432793</td>\n",
       "      <td>-0.473674</td>\n",
       "      <td>0.420730</td>\n",
       "      <td>-1.355574</td>\n",
       "      <td>-0.482043</td>\n",
       "      <td>-0.307562</td>\n",
       "      <td>0.615838</td>\n",
       "    </tr>\n",
       "    <tr>\n",
       "      <th>4</th>\n",
       "      <td>0.827377</td>\n",
       "      <td>0.433312</td>\n",
       "      <td>-0.474545</td>\n",
       "      <td>-0.473674</td>\n",
       "      <td>-0.486337</td>\n",
       "      <td>0.737695</td>\n",
       "      <td>-0.482043</td>\n",
       "      <td>-0.307562</td>\n",
       "      <td>0.615838</td>\n",
       "    </tr>\n",
       "    <tr>\n",
       "      <th>...</th>\n",
       "      <td>...</td>\n",
       "      <td>...</td>\n",
       "      <td>...</td>\n",
       "      <td>...</td>\n",
       "      <td>...</td>\n",
       "      <td>...</td>\n",
       "      <td>...</td>\n",
       "      <td>...</td>\n",
       "      <td>...</td>\n",
       "    </tr>\n",
       "    <tr>\n",
       "      <th>886</th>\n",
       "      <td>-0.369365</td>\n",
       "      <td>-0.181487</td>\n",
       "      <td>-0.474545</td>\n",
       "      <td>-0.473674</td>\n",
       "      <td>-0.386671</td>\n",
       "      <td>0.737695</td>\n",
       "      <td>-0.482043</td>\n",
       "      <td>-0.307562</td>\n",
       "      <td>0.615838</td>\n",
       "    </tr>\n",
       "    <tr>\n",
       "      <th>887</th>\n",
       "      <td>-1.566107</td>\n",
       "      <td>-0.796286</td>\n",
       "      <td>-0.474545</td>\n",
       "      <td>-0.473674</td>\n",
       "      <td>-0.044381</td>\n",
       "      <td>-1.355574</td>\n",
       "      <td>-0.482043</td>\n",
       "      <td>-0.307562</td>\n",
       "      <td>0.615838</td>\n",
       "    </tr>\n",
       "    <tr>\n",
       "      <th>888</th>\n",
       "      <td>0.827377</td>\n",
       "      <td>-0.104637</td>\n",
       "      <td>0.432793</td>\n",
       "      <td>2.008933</td>\n",
       "      <td>-0.176263</td>\n",
       "      <td>-1.355574</td>\n",
       "      <td>-0.482043</td>\n",
       "      <td>-0.307562</td>\n",
       "      <td>0.615838</td>\n",
       "    </tr>\n",
       "    <tr>\n",
       "      <th>889</th>\n",
       "      <td>-1.566107</td>\n",
       "      <td>-0.258337</td>\n",
       "      <td>-0.474545</td>\n",
       "      <td>-0.473674</td>\n",
       "      <td>-0.044381</td>\n",
       "      <td>0.737695</td>\n",
       "      <td>2.074505</td>\n",
       "      <td>-0.307562</td>\n",
       "      <td>-1.623803</td>\n",
       "    </tr>\n",
       "    <tr>\n",
       "      <th>890</th>\n",
       "      <td>0.827377</td>\n",
       "      <td>0.202762</td>\n",
       "      <td>-0.474545</td>\n",
       "      <td>-0.473674</td>\n",
       "      <td>-0.492378</td>\n",
       "      <td>0.737695</td>\n",
       "      <td>-0.482043</td>\n",
       "      <td>3.251373</td>\n",
       "      <td>-1.623803</td>\n",
       "    </tr>\n",
       "  </tbody>\n",
       "</table>\n",
       "<p>891 rows × 9 columns</p>\n",
       "</div>"
      ],
      "text/plain": [
       "       Pclass       Age     SibSp     Parch      Fare       Sex  Embarked_C  \\\n",
       "0    0.827377 -0.565736  0.432793 -0.473674 -0.502445  0.737695   -0.482043   \n",
       "1   -1.566107  0.663861  0.432793 -0.473674  0.786845 -1.355574    2.074505   \n",
       "2    0.827377 -0.258337 -0.474545 -0.473674 -0.488854 -1.355574   -0.482043   \n",
       "3   -1.566107  0.433312  0.432793 -0.473674  0.420730 -1.355574   -0.482043   \n",
       "4    0.827377  0.433312 -0.474545 -0.473674 -0.486337  0.737695   -0.482043   \n",
       "..        ...       ...       ...       ...       ...       ...         ...   \n",
       "886 -0.369365 -0.181487 -0.474545 -0.473674 -0.386671  0.737695   -0.482043   \n",
       "887 -1.566107 -0.796286 -0.474545 -0.473674 -0.044381 -1.355574   -0.482043   \n",
       "888  0.827377 -0.104637  0.432793  2.008933 -0.176263 -1.355574   -0.482043   \n",
       "889 -1.566107 -0.258337 -0.474545 -0.473674 -0.044381  0.737695    2.074505   \n",
       "890  0.827377  0.202762 -0.474545 -0.473674 -0.492378  0.737695   -0.482043   \n",
       "\n",
       "     Embarked_Q  Embarked_S  \n",
       "0     -0.307562    0.615838  \n",
       "1     -0.307562   -1.623803  \n",
       "2     -0.307562    0.615838  \n",
       "3     -0.307562    0.615838  \n",
       "4     -0.307562    0.615838  \n",
       "..          ...         ...  \n",
       "886   -0.307562    0.615838  \n",
       "887   -0.307562    0.615838  \n",
       "888   -0.307562    0.615838  \n",
       "889   -0.307562   -1.623803  \n",
       "890    3.251373   -1.623803  \n",
       "\n",
       "[891 rows x 9 columns]"
      ]
     },
     "execution_count": 15,
     "metadata": {},
     "output_type": "execute_result"
    }
   ],
   "source": [
    "full_data = pd.DataFrame(pd.concat([filled_numerical_data,encoded_category_data],axis=1))\n",
    "from sklearn.preprocessing import StandardScaler\n",
    "std_scaler = StandardScaler()\n",
    "scaled_full_data = std_scaler.fit_transform(full_data)\n",
    "scaled_full_data = pd.DataFrame(scaled_full_data, columns=full_data.columns)\n",
    "scaled_full_data"
   ]
  },
  {
   "cell_type": "markdown",
   "metadata": {},
   "source": [
    "# Choosing Model"
   ]
  },
  {
   "cell_type": "code",
   "execution_count": 16,
   "metadata": {},
   "outputs": [],
   "source": [
    "# first, let set the data to X and y, also we will use KFold\n",
    "from sklearn.model_selection import KFold\n",
    "X = scaled_full_data\n",
    "y = labels.values \n",
    "y = y.reshape(y.shape[0],)\n",
    "kf = KFold(n_splits=15, shuffle=True, random_state=42)\n",
    "\n",
    "# now let try some well-known models"
   ]
  },
  {
   "cell_type": "code",
   "execution_count": 17,
   "metadata": {},
   "outputs": [
    {
     "name": "stdout",
     "output_type": "stream",
     "text": [
      "Best parameters for SGD-SVM: {'alpha': 0.01, 'penalty': 'l2'}\n",
      "Best mean cross-validation score for SGD-SVM: 0.7880037664783429\n"
     ]
    }
   ],
   "source": [
    "from sklearn.model_selection import GridSearchCV\n",
    "from sklearn.linear_model import SGDClassifier\n",
    "from sklearn.preprocessing import StandardScaler\n",
    "\n",
    "# Define parameter grid\n",
    "param_grid = {\n",
    "    'alpha': [0.0001, 0.001, 0.01, 0.1, 1],  # Regularization parameter\n",
    "    'penalty': ['l2'],  # Penalty (L1, L2, ElasticNet)\n",
    "}\n",
    "\n",
    "# Initialize SGDClassifier\n",
    "sgd_cls = SGDClassifier()\n",
    "\n",
    "# Initialize GridSearchCV with SGDClassifier and parameter grid\n",
    "grid_search_sgd = GridSearchCV(estimator=sgd_cls, param_grid=param_grid, cv=kf, scoring='accuracy')\n",
    "\n",
    "# Perform Grid Search\n",
    "grid_search_sgd.fit(X, y)\n",
    "\n",
    "# Get the best parameters and best score\n",
    "best_params_sgd = grid_search_sgd.best_params_\n",
    "best_score_sgd = grid_search_sgd.best_score_\n",
    "\n",
    "print(\"Best parameters for SGD-SVM:\", best_params_sgd)\n",
    "print(\"Best mean cross-validation score for SGD-SVM:\", best_score_sgd)\n"
   ]
  },
  {
   "cell_type": "code",
   "execution_count": 18,
   "metadata": {},
   "outputs": [
    {
     "name": "stdout",
     "output_type": "stream",
     "text": [
      "Cross-validation scores for SGD-SVM: 0.7946704331450096\n"
     ]
    }
   ],
   "source": [
    "\n",
    "from sklearn.model_selection import cross_val_score\n",
    "from sklearn.linear_model import SGDClassifier \n",
    "sgd_cls = SGDClassifier(alpha=0.001)\n",
    "\n",
    "# Perform cross-validation and get the scores\n",
    "scores_sgd = cross_val_score(sgd_cls, X, y, cv=kf)\n",
    "\n",
    "# Print the scores\n",
    "print(\"Cross-validation scores for SGD-SVM:\", np.mean(scores_sgd))"
   ]
  },
  {
   "cell_type": "code",
   "execution_count": 19,
   "metadata": {},
   "outputs": [
    {
     "name": "stdout",
     "output_type": "stream",
     "text": [
      "Best parameters for Logistic Regression: {'C': 0.01, 'penalty': 'l2'}\n",
      "Best mean cross-validation score for Logistic Regression: 0.8116007532956685\n"
     ]
    }
   ],
   "source": [
    "from sklearn.linear_model import LogisticRegression\n",
    "from sklearn.model_selection import GridSearchCV\n",
    "\n",
    "log_reg = LogisticRegression()\n",
    "\n",
    "param_grid = {\n",
    "    'penalty': ['l2'], \n",
    "    'C': [0.001, 0.01, 0.1, 1, 10, 100]  # Inverse of regularization strength\n",
    "}\n",
    "grid_search_logreg = GridSearchCV(estimator=log_reg, param_grid=param_grid, cv=kf, scoring='accuracy')\n",
    "grid_search_logreg.fit(X, y)\n",
    "best_params_logreg = grid_search_logreg.best_params_\n",
    "best_score_logreg = grid_search_logreg.best_score_\n",
    "print(\"Best parameters for Logistic Regression:\", best_params_logreg)\n",
    "print(\"Best mean cross-validation score for Logistic Regression:\", best_score_logreg)"
   ]
  },
  {
   "cell_type": "code",
   "execution_count": 20,
   "metadata": {},
   "outputs": [
    {
     "name": "stdout",
     "output_type": "stream",
     "text": [
      "Cross-validation scores for Logistic Regression: 0.8116007532956685\n"
     ]
    }
   ],
   "source": [
    "from sklearn.linear_model import LogisticRegression \n",
    "log_reg = LogisticRegression(C=0.01,penalty='l2')\n",
    "scores_logreg = cross_val_score(log_reg, X, y, cv=kf)\n",
    "print(\"Cross-validation scores for Logistic Regression:\", np.mean(scores_logreg))"
   ]
  },
  {
   "cell_type": "code",
   "execution_count": 21,
   "metadata": {},
   "outputs": [
    {
     "name": "stdout",
     "output_type": "stream",
     "text": [
      "Best parameters for SVC with RBF kernel: {'C': 1, 'gamma': 'scale'}\n",
      "Best mean cross-validation score for SVC with RBF kernel: 0.8295291902071563\n",
      "Best parameters for SVC with polynomial kernel: {'C': 1, 'gamma': 'auto'}\n",
      "Best mean cross-validation score for SVC with polynomial kernel: 0.8160640301318268\n"
     ]
    }
   ],
   "source": [
    "from sklearn.svm import SVC \n",
    "svm_rbf_classifier = SVC(kernel='rbf')\n",
    "svm_poly_classifier = SVC(kernel='poly')\n",
    "param_grid = {\n",
    "    'C': [0.1, 1, 10],  # Regularization parameter\n",
    "    'gamma': ['scale', 'auto'],  # Kernel coefficient\n",
    "}\n",
    "grid_search_SVC_RBF= GridSearchCV(estimator=svm_rbf_classifier, param_grid=param_grid, cv=kf, scoring='accuracy')\n",
    "grid_search_SVC_Poly= GridSearchCV(estimator=svm_poly_classifier, param_grid=param_grid, cv=kf, scoring='accuracy')\n",
    "grid_search_SVC_RBF.fit(X, y)\n",
    "grid_search_SVC_Poly.fit(X, y)\n",
    "print(\"Best parameters for SVC with RBF kernel:\", grid_search_SVC_RBF.best_params_)\n",
    "print(\"Best mean cross-validation score for SVC with RBF kernel:\", grid_search_SVC_RBF.best_score_)\n",
    "\n",
    "print(\"Best parameters for SVC with polynomial kernel:\", grid_search_SVC_Poly.best_params_)\n",
    "print(\"Best mean cross-validation score for SVC with polynomial kernel:\", grid_search_SVC_Poly.best_score_)"
   ]
  },
  {
   "cell_type": "code",
   "execution_count": 22,
   "metadata": {},
   "outputs": [
    {
     "name": "stdout",
     "output_type": "stream",
     "text": [
      "Cross-validation scores for SVC RBF: 0.8216760828625236\n",
      "Cross-validation scores for SVC Poly: 0.8160640301318268\n"
     ]
    }
   ],
   "source": [
    "svm_rbf_classifier = SVC(kernel='rbf',C=10,gamma='scale')\n",
    "svm_poly_classifier = SVC(kernel='poly',C=1,gamma='auto')\n",
    "scores_svc_rbf = cross_val_score(svm_rbf_classifier, X, y, cv=kf)\n",
    "scores_svc_poly = cross_val_score(svm_poly_classifier, X, y, cv=kf)\n",
    "print(\"Cross-validation scores for SVC RBF:\", np.mean(scores_svc_rbf))\n",
    "print(\"Cross-validation scores for SVC Poly:\", np.mean(scores_svc_poly))\n"
   ]
  },
  {
   "cell_type": "code",
   "execution_count": 23,
   "metadata": {},
   "outputs": [
    {
     "name": "stdout",
     "output_type": "stream",
     "text": [
      "Best parameters for Random Forest: {'bootstrap': False, 'max_depth': 5, 'n_estimators': 4}\n",
      "Best accuracy score for Random Forest: 0.8260121775155357\n"
     ]
    }
   ],
   "source": [
    "from sklearn.ensemble import RandomForestClassifier \n",
    "from sklearn.model_selection import GridSearchCV, StratifiedKFold\n",
    "param_grid = {\n",
    "    'n_estimators': [10,4,8,16],\n",
    "    'max_depth': [5,10,15,25,50],\n",
    "    'bootstrap': [False, True]\n",
    "}\n",
    "rfc = RandomForestClassifier()\n",
    "cv = StratifiedKFold(n_splits=5, shuffle=True) # custom cv to get the stratified valid test\n",
    "grid_search_RF = GridSearchCV(rfc, param_grid=param_grid, cv=cv, scoring='accuracy') \n",
    "grid_search_RF.fit(X, y)\n",
    "best_params_RF = grid_search_RF.best_params_\n",
    "\n",
    "print(\"Best parameters for Random Forest:\", best_params_RF)\n",
    "print(\"Best accuracy score for Random Forest:\", grid_search_RF.best_score_)"
   ]
  },
  {
   "cell_type": "code",
   "execution_count": 24,
   "metadata": {},
   "outputs": [
    {
     "name": "stdout",
     "output_type": "stream",
     "text": [
      "Cross-validation scores for RFC: 0.8216195856873824\n"
     ]
    }
   ],
   "source": [
    "rfc = RandomForestClassifier(max_depth=10,n_estimators=10,bootstrap=False)\n",
    "scores_rfc = cross_val_score(rfc, X, y, cv=kf)\n",
    "print(\"Cross-validation scores for RFC:\", np.mean(scores_rfc))\n"
   ]
  },
  {
   "cell_type": "code",
   "execution_count": 25,
   "metadata": {},
   "outputs": [
    {
     "name": "stdout",
     "output_type": "stream",
     "text": [
      "Best parameters for Gradient Boosting: {'max_depth': 5, 'n_estimators': 16}\n",
      "Best accuracy score for Gradient Boosting: 0.8316552633230808\n"
     ]
    }
   ],
   "source": [
    "from sklearn.ensemble import GradientBoostingClassifier\n",
    "gbc = GradientBoostingClassifier()\n",
    "param_grid = {\n",
    "    'n_estimators': [8,16,20,25],\n",
    "    'max_depth': [5,10,15,25,50],\n",
    "}\n",
    "cv = StratifiedKFold(n_splits=5, shuffle=True) # custom cv to get the stratified valid test\n",
    "grid_search_GBC = GridSearchCV(gbc, param_grid=param_grid, cv=cv, scoring='accuracy') \n",
    "grid_search_GBC.fit(X, y)\n",
    "\n",
    "print(\"Best parameters for Gradient Boosting:\", grid_search_GBC.best_params_)\n",
    "print(\"Best accuracy score for Gradient Boosting:\", grid_search_GBC.best_score_)"
   ]
  },
  {
   "cell_type": "code",
   "execution_count": 26,
   "metadata": {},
   "outputs": [
    {
     "name": "stdout",
     "output_type": "stream",
     "text": [
      "Cross-validation scores for GBC: 0.8339924670433145\n"
     ]
    }
   ],
   "source": [
    "gbc = GradientBoostingClassifier(max_depth=5,n_estimators=16)\n",
    "scores_gbc = cross_val_score(gbc, X, y, cv=kf)\n",
    "print(\"Cross-validation scores for GBC:\", np.mean(scores_gbc))\n"
   ]
  },
  {
   "cell_type": "code",
   "execution_count": 27,
   "metadata": {},
   "outputs": [
    {
     "data": {
      "image/png": "[encoded data removed]",
      "text/plain": [
       "<Figure size 1000x600 with 1 Axes>"
      ]
     },
     "metadata": {},
     "output_type": "display_data"
    }
   ],
   "source": [
    "import matplotlib.pyplot as plt\n",
    "\n",
    "# Scores for each classifier\n",
    "scores = {\n",
    "    'Gradient Boosting Classifier': scores_gbc,\n",
    "    'Random Forest Classifier': scores_rfc,\n",
    "    'SVC with Polynomial Kernel': scores_svc_poly,\n",
    "    'SVC with RBF Kernel': scores_svc_rbf,\n",
    "    'Logistic Regression': scores_logreg\n",
    "}\n",
    "\n",
    "# Plotting\n",
    "plt.figure(figsize=(10, 6))\n",
    "for classifier, score in scores.items():\n",
    "    plt.plot(range(1, 16), score, marker='o', label=classifier)\n",
    "\n",
    "plt.title('Comparison of Classifier Performance')\n",
    "plt.xlabel('Cross-validation fold')\n",
    "plt.ylabel('Accuracy')\n",
    "plt.xticks(range(1, 16))\n",
    "plt.legend()\n",
    "plt.grid(True)\n",
    "plt.show()\n"
   ]
  },
  {
   "cell_type": "markdown",
   "metadata": {},
   "source": [
    "**Note 3:**\n",
    "+ the logistic seem to work worser than others \n",
    "+ Overall, other models give us ~81% acc \n",
    "+ the Gradient boosting works slightly better ~82.5% \n",
    "+ Random forest seem to have the most consistency (only drop below 75% 1 time)"
   ]
  },
  {
   "cell_type": "markdown",
   "metadata": {},
   "source": [
    "# Finetuning "
   ]
  },
  {
   "cell_type": "markdown",
   "metadata": {},
   "source": [
    "<h2>Fine tuning Forest</h2>"
   ]
  },
  {
   "cell_type": "code",
   "execution_count": 28,
   "metadata": {},
   "outputs": [
    {
     "name": "stdout",
     "output_type": "stream",
     "text": [
      "      Feature  Random Forest  Gradient Boosting\n",
      "0      Pclass      15.524429          15.405544\n",
      "1         Age       8.872518          13.390535\n",
      "2       SibSp       4.512950           5.243679\n",
      "3       Parch       1.189546           1.219372\n",
      "4        Fare      14.861554          15.362497\n",
      "5         Sex      52.089212          48.139613\n",
      "6  Embarked_C       0.228110           0.379266\n",
      "7  Embarked_Q       0.650849           0.003202\n",
      "8  Embarked_S       2.070833           0.856292\n"
     ]
    }
   ],
   "source": [
    "feature_names = full_data.columns.tolist()\n",
    "\n",
    "# Retrieve feature importances and convert to percentages\n",
    "rf_feature_importances = grid_search_RF.best_estimator_.feature_importances_ * 100\n",
    "gbc_feature_importances = grid_search_GBC.best_estimator_.feature_importances_ * 100\n",
    "\n",
    "# Create a DataFrame to store feature importances\n",
    "compare_feature_df = pd.DataFrame({'Feature': feature_names,\n",
    "                   'Random Forest': rf_feature_importances,\n",
    "                   'Gradient Boosting': gbc_feature_importances})\n",
    "\n",
    "# Display the DataFrame\n",
    "print(compare_feature_df)"
   ]
  },
  {
   "cell_type": "markdown",
   "metadata": {},
   "source": [
    "we can see that the Embarked hardly did anything right here  \n",
    "also the parch and sibSp is really bad  \n",
    "so we can drop 3 Embarked cols and add Relative = Parch + SibSp  \n",
    "then run the model one more time too see if we can get a better result  "
   ]
  },
  {
   "cell_type": "code",
   "execution_count": 29,
   "metadata": {},
   "outputs": [],
   "source": [
    "important_data = scaled_full_data.drop(columns=[\"Parch\",\"SibSp\",\"Embarked_C\",\"Embarked_Q\",\"Embarked_S\"])\n",
    "important_data['Relative'] = scaled_full_data[\"Parch\"]+scaled_full_data[\"SibSp\"]\n",
    "scaled_imp_data = std_scaler.fit_transform(important_data)\n",
    "important_X = scaled_imp_data\n",
    "important_y = y "
   ]
  },
  {
   "cell_type": "code",
   "execution_count": 30,
   "metadata": {},
   "outputs": [
    {
     "name": "stdout",
     "output_type": "stream",
     "text": [
      "Cross-validation scores for RFC: 0.8238229755178909\n",
      "Cross-validation scores for GBC: 0.8316949152542373\n"
     ]
    }
   ],
   "source": [
    "scores_imp_rfc = cross_val_score(rfc, important_X, important_y, cv=kf)\n",
    "print(\"Cross-validation scores for RFC:\", np.mean(scores_imp_rfc))\n",
    "scores_imp_gbc = cross_val_score(gbc, important_X, important_y, cv=kf)\n",
    "print(\"Cross-validation scores for GBC:\", np.mean(scores_imp_gbc))"
   ]
  },
  {
   "cell_type": "markdown",
   "metadata": {},
   "source": [
    "**the accuracy score slightly improved!**"
   ]
  },
  {
   "cell_type": "markdown",
   "metadata": {},
   "source": [
    "<h2>Fine tuning SVM</h2>"
   ]
  },
  {
   "cell_type": "code",
   "execution_count": 36,
   "metadata": {},
   "outputs": [
    {
     "name": "stdout",
     "output_type": "stream",
     "text": [
      "Chosen cols in FSB: ['Pclass', 'Age', 'SibSp', 'Parch', 'Fare', 'Sex', 'Embarked_Q']\n",
      "Chosen cols in FSF: ['Pclass', 'Age', 'Parch', 'Fare', 'Sex', 'Embarked_C', 'Embarked_S']\n"
     ]
    }
   ],
   "source": [
    "# we will use FSB and FSF to feature selection\n",
    "from sklearn.feature_selection import f_classif,SelectKBest ,SequentialFeatureSelector\n",
    "\n",
    "selector_fsf = SelectKBest(f_classif, k=7)\n",
    "X_fsf = selector_fsf.fit_transform(X, y)\n",
    "\n",
    "selector_fsb = SequentialFeatureSelector(svm_rbf_classifier, n_features_to_select=7,direction='forward')\n",
    "X_fsb = selector_fsb.fit_transform(X, y)\n",
    "chosen_indices_fsf = selector_fsf.get_support(indices=True)\n",
    "chosen_indices_fsb = selector_fsb.get_support(indices=True)\n",
    "print(\"Chosen cols in FSB:\",full_data.columns[chosen_indices_fsb].tolist())\n",
    "print(\"Chosen cols in FSF:\",full_data.columns[chosen_indices_fsf].tolist())"
   ]
  },
  {
   "cell_type": "code",
   "execution_count": 37,
   "metadata": {},
   "outputs": [
    {
     "name": "stdout",
     "output_type": "stream",
     "text": [
      "Cross-validation scores for Logistic Regression FSB: 0.8025423728813561\n",
      "Cross-validation scores for Logistic Regression FSF: 0.7947645951035781\n"
     ]
    }
   ],
   "source": [
    "scores_logreg_fsb= cross_val_score(log_reg, X_fsb, y, cv=kf)\n",
    "print(\"Cross-validation scores for Logistic Regression FSB:\", np.mean(scores_logreg_fsb))\n",
    "scores_logreg_fsf= cross_val_score(log_reg, X_fsf, y, cv=kf)\n",
    "print(\"Cross-validation scores for Logistic Regression FSF:\", np.mean(scores_logreg_fsf))"
   ]
  },
  {
   "cell_type": "code",
   "execution_count": 38,
   "metadata": {},
   "outputs": [
    {
     "name": "stdout",
     "output_type": "stream",
     "text": [
      "Cross-validation scores for SVC RBF FSF: 0.804858757062147\n",
      "Cross-validation scores for SVC RBF FSB: 0.8250470809792845\n",
      "Cross-validation scores for SVC Poly FSF: 0.8104896421845573\n",
      "Cross-validation scores for SVC Poly FSB: 0.8161016949152543\n"
     ]
    }
   ],
   "source": [
    "svm_rbf_classifier = SVC(kernel='rbf',C=10,gamma='scale')\n",
    "svm_poly_classifier = SVC(kernel='poly',C=1,gamma='auto')\n",
    "scores_svc_corr_rbf_fsf = cross_val_score(svm_rbf_classifier, X_fsf, y, cv=kf)\n",
    "print(\"Cross-validation scores for SVC RBF FSF:\", np.mean(scores_svc_corr_rbf_fsf))\n",
    "scores_svc_corr_rbf_fsb = cross_val_score(svm_rbf_classifier, X_fsb, y, cv=kf)\n",
    "print(\"Cross-validation scores for SVC RBF FSB:\", np.mean(scores_svc_corr_rbf_fsb))\n",
    "scores_svc_corr_poly_fsf = cross_val_score(svm_poly_classifier, X_fsf, y, cv=kf)\n",
    "print(\"Cross-validation scores for SVC Poly FSF:\", np.mean(scores_svc_corr_poly_fsf))\n",
    "scores_svc_corr_poly_fsb = cross_val_score(svm_poly_classifier, X_fsb, y, cv=kf)\n",
    "print(\"Cross-validation scores for SVC Poly FSB:\", np.mean(scores_svc_corr_poly_fsb))"
   ]
  },
  {
   "cell_type": "markdown",
   "metadata": {},
   "source": [
    "FSB gives us a better accuracy score overall  \n",
    "Chosen cols in FSB: ['Pclass', 'Age', 'SibSp', 'Parch', 'Fare', 'Sex', 'Embarked_Q']\n",
    "\n",
    "as we can see, it decided to drop Embarked_C and Embarked_S  \n",
    "and also, the accuracy slightly improved (about 0.05) "
   ]
  },
  {
   "cell_type": "markdown",
   "metadata": {},
   "source": [
    "# Conclusion\n",
    " OK, so I dont think i can improve the result anymore (with my current knowledge)\n",
    "\n",
    "I will try to use both **RBF_SVM** and **Gradient Boosting** for the test.csv!!!"
   ]
  },
  {
   "cell_type": "code",
   "execution_count": 39,
   "metadata": {},
   "outputs": [
    {
     "name": "stderr",
     "output_type": "stream",
     "text": [
      "C:\\Users\\Phan Trong Dai\\AppData\\Local\\Temp\\ipykernel_17084\\665695479.py:5: SettingWithCopyWarning: \n",
      "A value is trying to be set on a copy of a slice from a DataFrame.\n",
      "Try using .loc[row_indexer,col_indexer] = value instead\n",
      "\n",
      "See the caveats in the documentation: https://pandas.pydata.org/pandas-docs/stable/user_guide/indexing.html#returning-a-view-versus-a-copy\n",
      "  category_test[\"Sex\"]= ord_encoder.fit_transform(category_test[[\"Sex\"]])\n"
     ]
    }
   ],
   "source": [
    "numerical_test = rawtestdata[numerical_cols]\n",
    "category_test = rawtestdata[category_cols]\n",
    "\n",
    "category_test.fillna(\"S\")\n",
    "category_test[\"Sex\"]= ord_encoder.fit_transform(category_test[[\"Sex\"]])\n",
    "embarked_encoded_test = (onehot_encoder.fit_transform(category_test[[\"Embarked\"]])).toarray()\n",
    "embarked_encoded_test_df = pd.DataFrame(embarked_encoded_test, columns=onehot_encoder.get_feature_names_out([\"Embarked\"]))\n",
    "encoded_category_test = pd.concat([category_test[\"Sex\"],embarked_encoded_test_df],axis=1)\n",
    "\n"
   ]
  },
  {
   "cell_type": "code",
   "execution_count": 40,
   "metadata": {},
   "outputs": [],
   "source": [
    "filled_numerical_test = imputer.fit_transform(numerical_test)\n",
    "filled_numerical_test = pd.DataFrame(filled_numerical_test, columns=numerical_data.columns)\n"
   ]
  },
  {
   "cell_type": "code",
   "execution_count": 41,
   "metadata": {},
   "outputs": [],
   "source": [
    "full_test = pd.DataFrame(pd.concat([filled_numerical_test,encoded_category_test],axis=1))\n",
    "scaled_full_test = std_scaler.fit_transform(full_test)\n",
    "scaled_full_test = pd.DataFrame(scaled_full_test, columns=full_test.columns)\n"
   ]
  },
  {
   "cell_type": "code",
   "execution_count": 73,
   "metadata": {},
   "outputs": [],
   "source": [
    "X_test = scaled_full_test\n",
    "svm_rbf_classifier = SVC(kernel='rbf',C=10,gamma='scale')\n",
    "gbc = GradientBoostingClassifier(max_depth=5,n_estimators=16)\n",
    "important_test = scaled_full_test.drop(columns=[\"Parch\",\"SibSp\",\"Embarked_C\",\"Embarked_Q\",\"Embarked_S\"])\n",
    "important_test['Relative'] = scaled_full_test[\"Parch\"]+scaled_full_test[\"SibSp\"]\n",
    "scaled_imp_test = std_scaler.fit_transform(important_test)\n",
    "important_X_test = scaled_imp_test\n",
    "\n",
    "gbc.fit(important_X,important_y)\n",
    "predict_gbc_y = gbc.predict(important_X_test)"
   ]
  },
  {
   "cell_type": "code",
   "execution_count": 74,
   "metadata": {},
   "outputs": [
    {
     "data": {
      "text/plain": [
       "Survived\n",
       "0           289\n",
       "1           129\n",
       "Name: count, dtype: int64"
      ]
     },
     "execution_count": 74,
     "metadata": {},
     "output_type": "execute_result"
    }
   ],
   "source": [
    "ans_gbc_pd = pd.DataFrame(predict_gbc_y,columns=[\"Survived\"])\n",
    "ans_gbc_pd.value_counts()"
   ]
  },
  {
   "cell_type": "code",
   "execution_count": 75,
   "metadata": {},
   "outputs": [
    {
     "data": {
      "text/html": [
       "<div>\n",
       "<style scoped>\n",
       "    .dataframe tbody tr th:only-of-type {\n",
       "        vertical-align: middle;\n",
       "    }\n",
       "\n",
       "    .dataframe tbody tr th {\n",
       "        vertical-align: top;\n",
       "    }\n",
       "\n",
       "    .dataframe thead th {\n",
       "        text-align: right;\n",
       "    }\n",
       "</style>\n",
       "<table border=\"1\" class=\"dataframe\">\n",
       "  <thead>\n",
       "    <tr style=\"text-align: right;\">\n",
       "      <th></th>\n",
       "      <th>PassengerId</th>\n",
       "      <th>Survived</th>\n",
       "    </tr>\n",
       "  </thead>\n",
       "  <tbody>\n",
       "    <tr>\n",
       "      <th>0</th>\n",
       "      <td>892</td>\n",
       "      <td>0</td>\n",
       "    </tr>\n",
       "    <tr>\n",
       "      <th>1</th>\n",
       "      <td>893</td>\n",
       "      <td>0</td>\n",
       "    </tr>\n",
       "    <tr>\n",
       "      <th>2</th>\n",
       "      <td>894</td>\n",
       "      <td>0</td>\n",
       "    </tr>\n",
       "    <tr>\n",
       "      <th>3</th>\n",
       "      <td>895</td>\n",
       "      <td>0</td>\n",
       "    </tr>\n",
       "    <tr>\n",
       "      <th>4</th>\n",
       "      <td>896</td>\n",
       "      <td>0</td>\n",
       "    </tr>\n",
       "    <tr>\n",
       "      <th>...</th>\n",
       "      <td>...</td>\n",
       "      <td>...</td>\n",
       "    </tr>\n",
       "    <tr>\n",
       "      <th>413</th>\n",
       "      <td>1305</td>\n",
       "      <td>0</td>\n",
       "    </tr>\n",
       "    <tr>\n",
       "      <th>414</th>\n",
       "      <td>1306</td>\n",
       "      <td>1</td>\n",
       "    </tr>\n",
       "    <tr>\n",
       "      <th>415</th>\n",
       "      <td>1307</td>\n",
       "      <td>0</td>\n",
       "    </tr>\n",
       "    <tr>\n",
       "      <th>416</th>\n",
       "      <td>1308</td>\n",
       "      <td>0</td>\n",
       "    </tr>\n",
       "    <tr>\n",
       "      <th>417</th>\n",
       "      <td>1309</td>\n",
       "      <td>0</td>\n",
       "    </tr>\n",
       "  </tbody>\n",
       "</table>\n",
       "<p>418 rows × 2 columns</p>\n",
       "</div>"
      ],
      "text/plain": [
       "     PassengerId  Survived\n",
       "0            892         0\n",
       "1            893         0\n",
       "2            894         0\n",
       "3            895         0\n",
       "4            896         0\n",
       "..           ...       ...\n",
       "413         1305         0\n",
       "414         1306         1\n",
       "415         1307         0\n",
       "416         1308         0\n",
       "417         1309         0\n",
       "\n",
       "[418 rows x 2 columns]"
      ]
     },
     "execution_count": 75,
     "metadata": {},
     "output_type": "execute_result"
    }
   ],
   "source": [
    "final_ans_gbc_pd = pd.concat([rawtestdata['PassengerId'],ans_gbc_pd],axis=1)\n",
    "final_ans_gbc_pd"
   ]
  },
  {
   "cell_type": "code",
   "execution_count": 72,
   "metadata": {},
   "outputs": [],
   "source": [
    "final_ans_gbc_pd.to_csv(\"predict_gbc.csv\",index=False)"
   ]
  },
  {
   "cell_type": "code",
   "execution_count": 63,
   "metadata": {},
   "outputs": [],
   "source": [
    "X_test_2 = scaled_full_test\n",
    "fsb_test = scaled_full_test.drop(columns=[\"Embarked_C\",\"Embarked_S\"])\n",
    "scaled_fsb_test = std_scaler.fit_transform(fsb_test)\n",
    "fsb_X_test = scaled_fsb_test\n",
    "\n",
    "svm_rbf_classifier.fit(X_fsb,y)\n",
    "predict_rbf_svm_y = svm_rbf_classifier.predict(fsb_X_test)"
   ]
  },
  {
   "cell_type": "code",
   "execution_count": 64,
   "metadata": {},
   "outputs": [
    {
     "data": {
      "text/plain": [
       "Survived\n",
       "0           285\n",
       "1           133\n",
       "Name: count, dtype: int64"
      ]
     },
     "execution_count": 64,
     "metadata": {},
     "output_type": "execute_result"
    }
   ],
   "source": [
    "ans_rbf_svm_pd = pd.DataFrame(predict_rbf_svm_y,columns=[\"Survived\"])\n",
    "ans_rbf_svm_pd.value_counts()"
   ]
  },
  {
   "cell_type": "code",
   "execution_count": 67,
   "metadata": {},
   "outputs": [
    {
     "data": {
      "text/html": [
       "<div>\n",
       "<style scoped>\n",
       "    .dataframe tbody tr th:only-of-type {\n",
       "        vertical-align: middle;\n",
       "    }\n",
       "\n",
       "    .dataframe tbody tr th {\n",
       "        vertical-align: top;\n",
       "    }\n",
       "\n",
       "    .dataframe thead th {\n",
       "        text-align: right;\n",
       "    }\n",
       "</style>\n",
       "<table border=\"1\" class=\"dataframe\">\n",
       "  <thead>\n",
       "    <tr style=\"text-align: right;\">\n",
       "      <th></th>\n",
       "      <th>PassengerId</th>\n",
       "      <th>Survived</th>\n",
       "    </tr>\n",
       "  </thead>\n",
       "  <tbody>\n",
       "    <tr>\n",
       "      <th>0</th>\n",
       "      <td>892</td>\n",
       "      <td>0</td>\n",
       "    </tr>\n",
       "    <tr>\n",
       "      <th>1</th>\n",
       "      <td>893</td>\n",
       "      <td>0</td>\n",
       "    </tr>\n",
       "    <tr>\n",
       "      <th>2</th>\n",
       "      <td>894</td>\n",
       "      <td>0</td>\n",
       "    </tr>\n",
       "    <tr>\n",
       "      <th>3</th>\n",
       "      <td>895</td>\n",
       "      <td>0</td>\n",
       "    </tr>\n",
       "    <tr>\n",
       "      <th>4</th>\n",
       "      <td>896</td>\n",
       "      <td>0</td>\n",
       "    </tr>\n",
       "    <tr>\n",
       "      <th>...</th>\n",
       "      <td>...</td>\n",
       "      <td>...</td>\n",
       "    </tr>\n",
       "    <tr>\n",
       "      <th>413</th>\n",
       "      <td>1305</td>\n",
       "      <td>0</td>\n",
       "    </tr>\n",
       "    <tr>\n",
       "      <th>414</th>\n",
       "      <td>1306</td>\n",
       "      <td>1</td>\n",
       "    </tr>\n",
       "    <tr>\n",
       "      <th>415</th>\n",
       "      <td>1307</td>\n",
       "      <td>0</td>\n",
       "    </tr>\n",
       "    <tr>\n",
       "      <th>416</th>\n",
       "      <td>1308</td>\n",
       "      <td>0</td>\n",
       "    </tr>\n",
       "    <tr>\n",
       "      <th>417</th>\n",
       "      <td>1309</td>\n",
       "      <td>0</td>\n",
       "    </tr>\n",
       "  </tbody>\n",
       "</table>\n",
       "<p>418 rows × 2 columns</p>\n",
       "</div>"
      ],
      "text/plain": [
       "     PassengerId  Survived\n",
       "0            892         0\n",
       "1            893         0\n",
       "2            894         0\n",
       "3            895         0\n",
       "4            896         0\n",
       "..           ...       ...\n",
       "413         1305         0\n",
       "414         1306         1\n",
       "415         1307         0\n",
       "416         1308         0\n",
       "417         1309         0\n",
       "\n",
       "[418 rows x 2 columns]"
      ]
     },
     "execution_count": 67,
     "metadata": {},
     "output_type": "execute_result"
    }
   ],
   "source": [
    "final_ans_rbf_svm_pd = pd.concat([rawtestdata['PassengerId'],ans_rbf_svm_pd],axis=1)\n",
    "final_ans_rbf_svm_pd"
   ]
  },
  {
   "cell_type": "code",
   "execution_count": 68,
   "metadata": {},
   "outputs": [],
   "source": [
    "final_ans_rbf_svm_pd.to_csv(\"predict_rbf_svm.csv\",index=False)\n"
   ]
  },
  {
   "cell_type": "code",
   "execution_count": 76,
   "metadata": {},
   "outputs": [
    {
     "name": "stdout",
     "output_type": "stream",
     "text": [
      "Cross-validation scores for single_best_model: 0.8339924670433145\n"
     ]
    }
   ],
   "source": [
    "X_test = scaled_full_test\n",
    "single_best_model = RandomForestClassifier(criterion='gini', \n",
    "                                           n_estimators=1100,\n",
    "                                           max_depth=5,\n",
    "                                           min_samples_split=4,\n",
    "                                           min_samples_leaf=5,\n",
    "                                           max_features='auto',\n",
    "                                           oob_score=True,\n",
    "                                           n_jobs=-1,\n",
    "                                           verbose=1)\n",
    "scores_single_best_model = cross_val_score(gbc, X, y, cv=kf)\n",
    "print(\"Cross-validation scores for single_best_model:\", np.mean(scores_single_best_model))"
   ]
  },
  {
   "cell_type": "code",
   "execution_count": 77,
   "metadata": {},
   "outputs": [
    {
     "name": "stderr",
     "output_type": "stream",
     "text": [
      "d:\\DownloadDiskD\\conda\\Lib\\site-packages\\sklearn\\ensemble\\_forest.py:424: FutureWarning: `max_features='auto'` has been deprecated in 1.1 and will be removed in 1.3. To keep the past behaviour, explicitly set `max_features='sqrt'` or remove this parameter as it is also the default value for RandomForestClassifiers and ExtraTreesClassifiers.\n",
      "  warn(\n",
      "[Parallel(n_jobs=-1)]: Using backend ThreadingBackend with 12 concurrent workers.\n",
      "[Parallel(n_jobs=-1)]: Done  26 tasks      | elapsed:    0.1s\n",
      "[Parallel(n_jobs=-1)]: Done 176 tasks      | elapsed:    0.7s\n",
      "[Parallel(n_jobs=-1)]: Done 426 tasks      | elapsed:    1.6s\n",
      "[Parallel(n_jobs=-1)]: Done 776 tasks      | elapsed:    2.9s\n",
      "[Parallel(n_jobs=-1)]: Done 1100 out of 1100 | elapsed:    4.1s finished\n",
      "[Parallel(n_jobs=12)]: Using backend ThreadingBackend with 12 concurrent workers.\n",
      "[Parallel(n_jobs=12)]: Done  26 tasks      | elapsed:    0.0s\n",
      "[Parallel(n_jobs=12)]: Done 176 tasks      | elapsed:    0.0s\n",
      "[Parallel(n_jobs=12)]: Done 426 tasks      | elapsed:    0.2s\n",
      "[Parallel(n_jobs=12)]: Done 776 tasks      | elapsed:    0.4s\n",
      "[Parallel(n_jobs=12)]: Done 1100 out of 1100 | elapsed:    0.5s finished\n"
     ]
    }
   ],
   "source": [
    "single_best_model.fit(X,y)\n",
    "predict_sinle_best_model_y = single_best_model.predict(X_test)"
   ]
  },
  {
   "cell_type": "code",
   "execution_count": 78,
   "metadata": {},
   "outputs": [
    {
     "data": {
      "text/plain": [
       "Survived\n",
       "0           277\n",
       "1           141\n",
       "Name: count, dtype: int64"
      ]
     },
     "execution_count": 78,
     "metadata": {},
     "output_type": "execute_result"
    }
   ],
   "source": [
    "ans_single_best_model_pd = pd.DataFrame(predict_sinle_best_model_y,columns=[\"Survived\"])\n",
    "ans_single_best_model_pd.value_counts()"
   ]
  },
  {
   "cell_type": "code",
   "execution_count": 79,
   "metadata": {},
   "outputs": [
    {
     "data": {
      "text/html": [
       "<div>\n",
       "<style scoped>\n",
       "    .dataframe tbody tr th:only-of-type {\n",
       "        vertical-align: middle;\n",
       "    }\n",
       "\n",
       "    .dataframe tbody tr th {\n",
       "        vertical-align: top;\n",
       "    }\n",
       "\n",
       "    .dataframe thead th {\n",
       "        text-align: right;\n",
       "    }\n",
       "</style>\n",
       "<table border=\"1\" class=\"dataframe\">\n",
       "  <thead>\n",
       "    <tr style=\"text-align: right;\">\n",
       "      <th></th>\n",
       "      <th>PassengerId</th>\n",
       "      <th>Survived</th>\n",
       "    </tr>\n",
       "  </thead>\n",
       "  <tbody>\n",
       "    <tr>\n",
       "      <th>0</th>\n",
       "      <td>892</td>\n",
       "      <td>0</td>\n",
       "    </tr>\n",
       "    <tr>\n",
       "      <th>1</th>\n",
       "      <td>893</td>\n",
       "      <td>0</td>\n",
       "    </tr>\n",
       "    <tr>\n",
       "      <th>2</th>\n",
       "      <td>894</td>\n",
       "      <td>0</td>\n",
       "    </tr>\n",
       "    <tr>\n",
       "      <th>3</th>\n",
       "      <td>895</td>\n",
       "      <td>0</td>\n",
       "    </tr>\n",
       "    <tr>\n",
       "      <th>4</th>\n",
       "      <td>896</td>\n",
       "      <td>1</td>\n",
       "    </tr>\n",
       "    <tr>\n",
       "      <th>...</th>\n",
       "      <td>...</td>\n",
       "      <td>...</td>\n",
       "    </tr>\n",
       "    <tr>\n",
       "      <th>413</th>\n",
       "      <td>1305</td>\n",
       "      <td>0</td>\n",
       "    </tr>\n",
       "    <tr>\n",
       "      <th>414</th>\n",
       "      <td>1306</td>\n",
       "      <td>1</td>\n",
       "    </tr>\n",
       "    <tr>\n",
       "      <th>415</th>\n",
       "      <td>1307</td>\n",
       "      <td>0</td>\n",
       "    </tr>\n",
       "    <tr>\n",
       "      <th>416</th>\n",
       "      <td>1308</td>\n",
       "      <td>0</td>\n",
       "    </tr>\n",
       "    <tr>\n",
       "      <th>417</th>\n",
       "      <td>1309</td>\n",
       "      <td>0</td>\n",
       "    </tr>\n",
       "  </tbody>\n",
       "</table>\n",
       "<p>418 rows × 2 columns</p>\n",
       "</div>"
      ],
      "text/plain": [
       "     PassengerId  Survived\n",
       "0            892         0\n",
       "1            893         0\n",
       "2            894         0\n",
       "3            895         0\n",
       "4            896         1\n",
       "..           ...       ...\n",
       "413         1305         0\n",
       "414         1306         1\n",
       "415         1307         0\n",
       "416         1308         0\n",
       "417         1309         0\n",
       "\n",
       "[418 rows x 2 columns]"
      ]
     },
     "execution_count": 79,
     "metadata": {},
     "output_type": "execute_result"
    }
   ],
   "source": [
    "final_ans_single_best_model_pd = pd.concat([rawtestdata['PassengerId'],ans_single_best_model_pd],axis=1)\n",
    "final_ans_single_best_model_pd"
   ]
  },
  {
   "cell_type": "code",
   "execution_count": 80,
   "metadata": {},
   "outputs": [],
   "source": [
    "final_ans_single_best_model_pd.to_csv(\"predict_single_best_model.csv\",index=False)"
   ]
  }
 ],
 "metadata": {
  "kernelspec": {
   "display_name": "base",
   "language": "python",
   "name": "python3"
  },
  "language_info": {
   "codemirror_mode": {
    "name": "ipython",
    "version": 3
   },
   "file_extension": ".py",
   "mimetype": "text/x-python",
   "name": "python",
   "nbconvert_exporter": "python",
   "pygments_lexer": "ipython3",
   "version": "3.11.9"
  }
 },
 "nbformat": 4,
 "nbformat_minor": 2
}
